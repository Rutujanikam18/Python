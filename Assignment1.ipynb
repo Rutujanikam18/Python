{
  "nbformat": 4,
  "nbformat_minor": 0,
  "metadata": {
    "colab": {
      "name": "Assignment1.ipynb",
      "provenance": [],
      "collapsed_sections": [],
      "authorship_tag": "ABX9TyMGEiPjegKjwcDhUFLqL2mA",
      "include_colab_link": true
    },
    "kernelspec": {
      "name": "python3",
      "display_name": "Python 3"
    },
    "language_info": {
      "name": "python"
    }
  },
  "cells": [
    {
      "cell_type": "markdown",
      "metadata": {
        "id": "view-in-github",
        "colab_type": "text"
      },
      "source": [
        "<a href=\"https://colab.research.google.com/github/Rutujanikam18/Python/blob/main/Assignment1.ipynb\" target=\"_parent\"><img src=\"https://colab.research.google.com/assets/colab-badge.svg\" alt=\"Open In Colab\"/></a>"
      ]
    },
    {
      "cell_type": "code",
      "execution_count": null,
      "metadata": {
        "colab": {
          "base_uri": "https://localhost:8080/"
        },
        "id": "KJBHPjpoxTUt",
        "outputId": "14960a68-19cb-44e5-cd66-50585502c6a6"
      },
      "outputs": [
        {
          "output_type": "stream",
          "name": "stdout",
          "text": [
            "['Rutuja Nikam', 'Age=20']\n",
            "['SP College', 'Class=TYBSc']\n",
            "['Rutuja Nikam']\n"
          ]
        }
      ],
      "source": [
        "A=[\"Rutuja Nikam\",\"Age=20\"]\n",
        "B=[\"SP College\",\"Class=TYBSc\"]\n",
        "print(A)\n",
        "print(B)\n",
        "print(A[0:1])"
      ]
    },
    {
      "cell_type": "code",
      "source": [
        "a=(\"Rutuja Nikam\"),(\"Age=20\")\n",
        "b=(\"College=SP College\"),(\"Class=TYBSc\")\n",
        "print(a,b)"
      ],
      "metadata": {
        "colab": {
          "base_uri": "https://localhost:8080/"
        },
        "id": "KU2j5cikysJh",
        "outputId": "3d2e0123-e67e-48cd-a74e-6651ba7d2f1a"
      },
      "execution_count": null,
      "outputs": [
        {
          "output_type": "stream",
          "name": "stdout",
          "text": [
            "('Rutuja Nikam', 'Age=20') ('College=SP College', 'Class=TYBSc')\n"
          ]
        }
      ]
    },
    {
      "cell_type": "code",
      "source": [
        "a=[\"A\",\"B\",\"C\"]\n",
        "print(type(a))\n",
        "print(a)\n",
        "b=(\"A\",\"B\",\"C\")\n",
        "print(type(b))\n",
        "print(b)\n",
        "a[0]=\"Z\"\n",
        "print(a)"
      ],
      "metadata": {
        "colab": {
          "base_uri": "https://localhost:8080/"
        },
        "id": "AazJZYMvzcbC",
        "outputId": "565addae-4323-441d-d38c-add1bf73c418"
      },
      "execution_count": null,
      "outputs": [
        {
          "output_type": "stream",
          "name": "stdout",
          "text": [
            "<class 'list'>\n",
            "['A', 'B', 'C']\n",
            "<class 'tuple'>\n",
            "('A', 'B', 'C')\n",
            "['Z', 'B', 'C']\n"
          ]
        }
      ]
    },
    {
      "cell_type": "code",
      "source": [
        "print(A)\n",
        "A1=A.copy()\n",
        "print(A1)\n",
        "##Tuples cannot be copied"
      ],
      "metadata": {
        "colab": {
          "base_uri": "https://localhost:8080/"
        },
        "id": "eQ-PaE9zG_7J",
        "outputId": "a342bc25-96e3-4634-8a5e-745c81edc0ad"
      },
      "execution_count": null,
      "outputs": [
        {
          "output_type": "stream",
          "name": "stdout",
          "text": [
            "['Rutuja Nikam', 'Age=20']\n",
            "['Rutuja Nikam', 'Age=20']\n"
          ]
        }
      ]
    },
    {
      "cell_type": "code",
      "source": [
        "print(B)\n",
        "B.append(\"Autonomous\")\n",
        "print(B)\n",
        "##tuples cannot be modified"
      ],
      "metadata": {
        "colab": {
          "base_uri": "https://localhost:8080/"
        },
        "id": "oI-8xB5RHwZP",
        "outputId": "d3a46686-dfcc-459b-fe54-aebcd9e1c37f"
      },
      "execution_count": null,
      "outputs": [
        {
          "output_type": "stream",
          "name": "stdout",
          "text": [
            "['SP College', 'Class=TYBSc']\n",
            "['SP College', 'Class=TYBSc', 'Autonomous']\n"
          ]
        }
      ]
    },
    {
      "cell_type": "code",
      "source": [
        "print(A.count(\"Rutuja Nikam\"))\n",
        "A.append(\"Rutuja Nikam\")\n",
        "print(A.count(\"Rutuja Nikam\"))"
      ],
      "metadata": {
        "colab": {
          "base_uri": "https://localhost:8080/"
        },
        "id": "bLQ1PttvISDd",
        "outputId": "f3516b51-0110-45fe-d953-1fd2c75fc17c"
      },
      "execution_count": 19,
      "outputs": [
        {
          "output_type": "stream",
          "name": "stdout",
          "text": [
            "3\n",
            "4\n"
          ]
        }
      ]
    },
    {
      "cell_type": "code",
      "source": [
        "print(A)\n",
        "print(B)\n",
        "A.extend(B) \n",
        "print(A)"
      ],
      "metadata": {
        "colab": {
          "base_uri": "https://localhost:8080/"
        },
        "id": "EN6rufJOI5sC",
        "outputId": "f6ac8d33-0e8c-4c95-c59d-dfc9de47bd56"
      },
      "execution_count": null,
      "outputs": [
        {
          "output_type": "stream",
          "name": "stdout",
          "text": [
            "['Rutuja Nikam', 'Age=20', 'Rutuja Nikam']\n",
            "['SP College', 'Class=TYBSc', 'Autonomous']\n",
            "['Rutuja Nikam', 'Age=20', 'Rutuja Nikam', 'SP College', 'Class=TYBSc', 'Autonomous']\n"
          ]
        }
      ]
    },
    {
      "cell_type": "code",
      "source": [
        "S=[\"R\",\"A\",\"J\",\"N\"]\n",
        "print(S)\n",
        "S1=[1,7,8,3]\n",
        "print(S1)\n",
        "S.sort()\n",
        "S1.sort()\n",
        "print(S)\n",
        "print(S1)"
      ],
      "metadata": {
        "colab": {
          "base_uri": "https://localhost:8080/"
        },
        "id": "8M2UYISUKIzg",
        "outputId": "72af631a-20d0-4086-b173-d5636da35b06"
      },
      "execution_count": null,
      "outputs": [
        {
          "output_type": "stream",
          "name": "stdout",
          "text": [
            "['R', 'A', 'J', 'N']\n",
            "[1, 7, 8, 3]\n",
            "['A', 'J', 'N', 'R']\n",
            "[1, 3, 7, 8]\n"
          ]
        }
      ]
    },
    {
      "cell_type": "code",
      "source": [
        "print(S[:3])"
      ],
      "metadata": {
        "colab": {
          "base_uri": "https://localhost:8080/"
        },
        "id": "i_jZSWXHKl3i",
        "outputId": "1a0db0a3-476c-4f5a-bf9c-ad0612ad2870"
      },
      "execution_count": null,
      "outputs": [
        {
          "output_type": "stream",
          "name": "stdout",
          "text": [
            "['A', 'J', 'N']\n"
          ]
        }
      ]
    },
    {
      "cell_type": "code",
      "source": [
        ""
      ],
      "metadata": {
        "id": "GLSNbZQCKwX9"
      },
      "execution_count": null,
      "outputs": []
    }
  ]
}