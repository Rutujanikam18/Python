{
  "cells": [
    {
      "cell_type": "markdown",
      "metadata": {
        "id": "view-in-github",
        "colab_type": "text"
      },
      "source": [
        "<a href=\"https://colab.research.google.com/github/Rutujanikam18/Python/blob/main/Python4.ipynb\" target=\"_parent\"><img src=\"https://colab.research.google.com/assets/colab-badge.svg\" alt=\"Open In Colab\"/></a>"
      ]
    },
    {
      "cell_type": "code",
      "execution_count": null,
      "metadata": {
        "colab": {
          "base_uri": "https://localhost:8080/"
        },
        "id": "WM9641mLhmLu",
        "outputId": "82791f2d-c11d-42a7-fe9f-a2ca3ba96f69"
      },
      "outputs": [
        {
          "output_type": "stream",
          "name": "stdout",
          "text": [
            "Rutuja Nikam\n",
            "9180\n"
          ]
        }
      ],
      "source": [
        "Name=\"Rutuja Nikam\"\n",
        "RollNumber=9180\n",
        "print(Name)\n",
        "print(RollNumber)"
      ]
    },
    {
      "cell_type": "code",
      "source": [
        "a=1000\n",
        "b=1000\n",
        "if a>=b:\n",
        "  print(\"a is greater than equal to b\")"
      ],
      "metadata": {
        "colab": {
          "base_uri": "https://localhost:8080/"
        },
        "id": "ICqf6dyQ52AE",
        "outputId": "4fb50fec-cd8b-464d-f606-aa6fbd4e7bd2"
      },
      "execution_count": null,
      "outputs": [
        {
          "output_type": "stream",
          "name": "stdout",
          "text": [
            "a is greater than equal to b\n"
          ]
        }
      ]
    },
    {
      "cell_type": "code",
      "source": [
        "a=16\n",
        "b=12\n",
        "if a>b:\n",
        "  print(\"Rutuja\")\n",
        "print(\"A\")"
      ],
      "metadata": {
        "colab": {
          "base_uri": "https://localhost:8080/"
        },
        "id": "vy6MWo1I6VBq",
        "outputId": "316561e0-d0fd-4b99-9bf3-27478edfa42d"
      },
      "execution_count": null,
      "outputs": [
        {
          "output_type": "stream",
          "name": "stdout",
          "text": [
            "Rutuja\n",
            "A\n"
          ]
        }
      ]
    },
    {
      "cell_type": "code",
      "source": [
        "#if....else statement\n",
        "a=16\n",
        "b=6\n",
        "if a>b:\n",
        "  print(\"Rutuja\")\n",
        "else:\n",
        "  print(\"A\")"
      ],
      "metadata": {
        "colab": {
          "base_uri": "https://localhost:8080/"
        },
        "id": "h3MT8X0163HJ",
        "outputId": "2ef37f82-50c9-4777-a3cc-351870167492"
      },
      "execution_count": null,
      "outputs": [
        {
          "output_type": "stream",
          "name": "stdout",
          "text": [
            "Rutuja\n"
          ]
        }
      ]
    },
    {
      "cell_type": "code",
      "source": [
        "num=10\n",
        "if num>10:\n",
        "  print(\"positive number\")\n",
        "else:\n",
        "  print(\"negative number\")"
      ],
      "metadata": {
        "id": "powLR0kO7u3c",
        "colab": {
          "base_uri": "https://localhost:8080/"
        },
        "outputId": "2f1e3ac5-2a5f-4cb5-b2f5-991402189ec6"
      },
      "execution_count": null,
      "outputs": [
        {
          "output_type": "stream",
          "name": "stdout",
          "text": [
            "negative number\n"
          ]
        }
      ]
    }
  ],
  "metadata": {
    "colab": {
      "name": "Python4.ipynb",
      "provenance": [],
      "collapsed_sections": [],
      "authorship_tag": "ABX9TyMZ7AgrsluDPvUXyrFiqmsK",
      "include_colab_link": true
    },
    "kernelspec": {
      "display_name": "Python 3",
      "name": "python3"
    },
    "language_info": {
      "name": "python"
    }
  },
  "nbformat": 4,
  "nbformat_minor": 0
}