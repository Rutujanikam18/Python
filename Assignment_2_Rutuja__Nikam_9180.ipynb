{
  "cells": [
    {
      "cell_type": "markdown",
      "metadata": {
        "id": "view-in-github",
        "colab_type": "text"
      },
      "source": [
        "<a href=\"https://colab.research.google.com/github/Rutujanikam18/Python/blob/main/Assignment_2_Rutuja__Nikam_9180.ipynb\" target=\"_parent\"><img src=\"https://colab.research.google.com/assets/colab-badge.svg\" alt=\"Open In Colab\"/></a>"
      ]
    },
    {
      "cell_type": "code",
      "execution_count": null,
      "metadata": {
        "id": "oljv0OwxXE-z",
        "colab": {
          "base_uri": "https://localhost:8080/"
        },
        "outputId": "1de32825-c727-43e2-d015-717ef9689690"
      },
      "outputs": [
        {
          "output_type": "stream",
          "name": "stdout",
          "text": [
            "Enter the String to be Reversed python\n",
            "The ReverseStringis nohtyp\n"
          ]
        }
      ],
      "source": [
        "def rev(Inp):\n",
        " ReverseInp=Inp[::-1] \n",
        " print (\"The ReverseString is\",ReverseInp)\n",
        "Stri=input(\"Enter the String to be Reversed \") \n",
        "rev(Stri)"
      ]
    },
    {
      "cell_type": "code",
      "execution_count": null,
      "metadata": {
        "colab": {
          "base_uri": "https://localhost:8080/"
        },
        "id": "jeHsVCwZXv65",
        "outputId": "6c3a2ee5-c33e-4e1e-e698-107d4ec48ec6"
      },
      "outputs": [
        {
          "output_type": "stream",
          "name": "stdout",
          "text": [
            "The smallest number from listA is: 14\n",
            "The largest number from listA is: 45\n",
            "Enter four values to find minimum and maximum value separated by space: 2 5 8 1\n",
            "The Maxmimum value from the input values is:  8\n",
            "The Minimum value from the input values is:  1\n"
          ]
        }
      ],
      "source": [
        "##without using function\n",
        "A = (14, 45, 28, 22)\n",
        "print('The smallest number from listA is:',min(A))\n",
        "print('The largest number from listA is:',max(A))\n",
        "##By using function\n",
        "def min_max(A,B,C,D):\n",
        " print(\"The Maxmimum value from the input values is: \", max(A,B,C,D))\n",
        " print(\"The Minimum value from the input values is: \", min(A,B,C,D)) \n",
        "a, b, c, d = input(\"Enter four values to find minimum and maximum value separated by space: \").split()\n",
        "min_max(a,b,c,d)"
      ]
    },
    {
      "cell_type": "code",
      "execution_count": null,
      "metadata": {
        "colab": {
          "base_uri": "https://localhost:8080/"
        },
        "outputId": "9da29d90-0dd6-47f2-eea8-2ff868123007",
        "id": "KWxlsqFbh4rg"
      },
      "outputs": [
        {
          "output_type": "stream",
          "name": "stdout",
          "text": [
            "Enter four values to find sum sum of them seperated by space: 10 2 4 6\n",
            "The sum of input values is:  22.0\n"
          ]
        }
      ],
      "source": [
        "def Sum4(P,Q,R,S):\n",
        "  sum =P+Q+R+S\n",
        "  print(\"The sum of input values is: \", sum)\n",
        "a, b, c, d= list(map(float, input(\"Enter four values to find sum of them seperated by space: \").split()))\n",
        "Sum4 (a,b,c,d)"
      ]
    },
    {
      "cell_type": "code",
      "execution_count": null,
      "metadata": {
        "colab": {
          "base_uri": "https://localhost:8080/"
        },
        "id": "iOEOeYB4ogmI",
        "outputId": "4406d724-eb8b-4ae9-fab9-41e1c452eb90"
      },
      "outputs": [
        {
          "output_type": "stream",
          "name": "stdout",
          "text": [
            "The Number of Local Variables in the given User Defined Function is:  5\n"
          ]
        }
      ],
      "source": [
        "print(\"The Number of Local Variables in the given User Defined Function is: \" ,Sum4.__code__.co_nlocals)"
      ]
    },
    {
      "cell_type": "code",
      "source": [
        "list1 = list(map(float, input(\"Enter a list of 8 elements separated by space: \").split()))\n",
        "L = len(list1)\n",
        "\n",
        "if (L==8):\n",
        "    print(\"The Even Numbers are : \")\n",
        "    for num in list1:\n",
        "          \n",
        "                  if (num % 2 == 0):\n",
        "                              print(num, end=\" \")\n",
        "else: \n",
        "                                  print(\"There are less than 8 elements in the list\")"
      ],
      "metadata": {
        "id": "knIb0yJTmxNc",
        "colab": {
          "base_uri": "https://localhost:8080/"
        },
        "outputId": "8687da19-5c6f-4407-e66d-136680e85e4d"
      },
      "execution_count": null,
      "outputs": [
        {
          "output_type": "stream",
          "name": "stdout",
          "text": [
            "Enter a list of 8 elements separated by space: 15 34 56 43 22 44 57 80\n",
            "The Even Numbers are : \n",
            "34.0 56.0 22.0 44.0 80.0 "
          ]
        }
      ]
    }
  ],
  "metadata": {
    "colab": {
      "collapsed_sections": [],
      "name": "Assignment 2_Rutuja _Nikam_9180",
      "provenance": [],
      "authorship_tag": "ABX9TyN7kua2T3s1+LnuCEL9h0X1",
      "include_colab_link": true
    },
    "kernelspec": {
      "display_name": "Python 3",
      "name": "python3"
    },
    "language_info": {
      "name": "python"
    }
  },
  "nbformat": 4,
  "nbformat_minor": 0
}